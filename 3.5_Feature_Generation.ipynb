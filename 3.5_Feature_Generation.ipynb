{
 "cells": [
  {
   "cell_type": "code",
   "execution_count": 1,
   "id": "ce41de44-81c5-4e5c-84b1-ffc4709c5c0d",
   "metadata": {},
   "outputs": [],
   "source": [
    "import pandas as pd\n",
    "import numpy as np\n",
    "# import seaborn as sns\n",
    "# import matplotlib.pyplot as plt\n",
    "import os\n",
    "from sklearn.model_selection import train_test_split\n",
    "from sklearn.metrics import roc_curve,  roc_auc_score\n",
    "\n",
    "# plt.style.use('seaborn-colorblind')\n",
    "# %matplotlib inline\n",
    "#from feature_cleaning import rare_values as ra"
   ]
  },
  {
   "cell_type": "markdown",
   "id": "5bee1736-2086-48e8-be1b-876a5c42232f",
   "metadata": {},
   "source": [
    "## Load dataset"
   ]
  },
  {
   "cell_type": "code",
   "execution_count": 2,
   "id": "5ec1bc8d-019e-4a8a-b0dc-c75604e598c9",
   "metadata": {},
   "outputs": [],
   "source": [
    "use_cols = [\n",
    "    'Pclass', 'Sex', 'Age', 'Fare', 'SibSp',\n",
    "    'Survived'\n",
    "]\n",
    "\n",
    "data = pd.read_csv('./data/titanic.csv', usecols=use_cols)"
   ]
  },
  {
   "cell_type": "code",
   "execution_count": 3,
   "id": "d8ad72c4-4501-4c20-9321-68340f3b14ab",
   "metadata": {},
   "outputs": [
    {
     "data": {
      "text/html": [
       "<div>\n",
       "<style scoped>\n",
       "    .dataframe tbody tr th:only-of-type {\n",
       "        vertical-align: middle;\n",
       "    }\n",
       "\n",
       "    .dataframe tbody tr th {\n",
       "        vertical-align: top;\n",
       "    }\n",
       "\n",
       "    .dataframe thead th {\n",
       "        text-align: right;\n",
       "    }\n",
       "</style>\n",
       "<table border=\"1\" class=\"dataframe\">\n",
       "  <thead>\n",
       "    <tr style=\"text-align: right;\">\n",
       "      <th></th>\n",
       "      <th>Survived</th>\n",
       "      <th>Pclass</th>\n",
       "      <th>Sex</th>\n",
       "      <th>Age</th>\n",
       "      <th>SibSp</th>\n",
       "      <th>Fare</th>\n",
       "    </tr>\n",
       "  </thead>\n",
       "  <tbody>\n",
       "    <tr>\n",
       "      <th>0</th>\n",
       "      <td>0</td>\n",
       "      <td>3</td>\n",
       "      <td>male</td>\n",
       "      <td>22.0</td>\n",
       "      <td>1</td>\n",
       "      <td>7.2500</td>\n",
       "    </tr>\n",
       "    <tr>\n",
       "      <th>1</th>\n",
       "      <td>1</td>\n",
       "      <td>1</td>\n",
       "      <td>female</td>\n",
       "      <td>38.0</td>\n",
       "      <td>1</td>\n",
       "      <td>71.2833</td>\n",
       "    </tr>\n",
       "    <tr>\n",
       "      <th>2</th>\n",
       "      <td>1</td>\n",
       "      <td>3</td>\n",
       "      <td>female</td>\n",
       "      <td>26.0</td>\n",
       "      <td>0</td>\n",
       "      <td>7.9250</td>\n",
       "    </tr>\n",
       "  </tbody>\n",
       "</table>\n",
       "</div>"
      ],
      "text/plain": [
       "   Survived  Pclass     Sex   Age  SibSp     Fare\n",
       "0         0       3    male  22.0      1   7.2500\n",
       "1         1       1  female  38.0      1  71.2833\n",
       "2         1       3  female  26.0      0   7.9250"
      ]
     },
     "execution_count": 3,
     "metadata": {},
     "output_type": "execute_result"
    }
   ],
   "source": [
    "data.head(3)"
   ]
  },
  {
   "cell_type": "code",
   "execution_count": 4,
   "id": "1c4e9f33-183e-472a-984d-f8d6b8cabfd6",
   "metadata": {},
   "outputs": [
    {
     "data": {
      "text/plain": [
       "((623, 6), (268, 6))"
      ]
     },
     "execution_count": 4,
     "metadata": {},
     "output_type": "execute_result"
    }
   ],
   "source": [
    "# Note that we include target variable in the X_train \n",
    "# because we need it to supervise our discretization\n",
    "# this is not the standard way of using train-test-split\n",
    "X_train, X_test, y_train, y_test = train_test_split(data, data.Survived, test_size=0.3,\n",
    "                                                    random_state=0)\n",
    "X_train.shape, X_test.shape"
   ]
  },
  {
   "cell_type": "markdown",
   "id": "56e1043a-4674-41b5-9db1-b40a01d3e0f6",
   "metadata": {},
   "source": [
    "## Polynomial Expansion\n",
    "generate a new feature set consisting of all polynomial combinations of the features with degree less than or equal to the specified degree"
   ]
  },
  {
   "cell_type": "code",
   "execution_count": 5,
   "id": "e0fd603f-342a-44ff-90e9-36fa264381f3",
   "metadata": {},
   "outputs": [
    {
     "name": "stdout",
     "output_type": "stream",
     "text": [
      "   Pclass  SibSp  Pclass^2  Pclass SibSp  SibSp^2\n",
      "0     1.0    0.0       1.0           0.0      0.0\n",
      "1     1.0    1.0       1.0           1.0      1.0\n",
      "2     3.0    5.0       9.0          15.0     25.0\n",
      "3     1.0    0.0       1.0           0.0      0.0\n",
      "4     3.0    1.0       9.0           3.0      1.0\n"
     ]
    }
   ],
   "source": [
    "# create polynomial combinations of feature 'Pclass','SibSp' with degree 2\n",
    "from sklearn.preprocessing import PolynomialFeatures\n",
    "pf = PolynomialFeatures(degree=2,include_bias=False).fit(X_train[['Pclass','SibSp']])\n",
    "tmp = pf.transform(X_train[['Pclass','SibSp']])\n",
    "\n",
    "# Use get_feature_names_out instead of get_feature_names\n",
    "X_train_copy = pd.DataFrame(tmp, columns=pf.get_feature_names_out(['Pclass', 'SibSp']))\n",
    "\n",
    "# Display the result\n",
    "print(X_train_copy.head())"
   ]
  },
  {
   "cell_type": "markdown",
   "id": "5aeded23-7f3a-445e-b3e5-0f9f564e00e6",
   "metadata": {},
   "source": [
    "## Feature Learning by Trees\n",
    "GBDT derived feature + LR"
   ]
  },
  {
   "cell_type": "code",
   "execution_count": 12,
   "id": "c669d229-f604-478d-a17c-a8358139432d",
   "metadata": {},
   "outputs": [
    {
     "name": "stdout",
     "output_type": "stream",
     "text": [
      "sample's belonging node of each base tree \n",
      "' [[ 7.  7.  6. ...  4.  7.  4.]\n",
      " [ 7.  7.  6. ... 14.  7.  7.]\n",
      " [11. 11. 11. ...  4.  6. 11.]\n",
      " ...\n",
      " [10. 10. 10. ...  4.  6. 10.]\n",
      " [13. 14. 13. ...  4.  7. 13.]\n",
      " [ 7.  7.  6. ...  6.  7.  7.]]\n",
      "AUC for GBDT derived feature + LR： 0.7733035714285714\n"
     ]
    },
    {
     "name": "stderr",
     "output_type": "stream",
     "text": [
      "C:\\Users\\xiaowen.shou\\AppData\\Local\\anaconda3\\Lib\\site-packages\\sklearn\\base.py:486: UserWarning: X has feature names, but DecisionTreeRegressor was fitted without feature names\n",
      "  warnings.warn(\n",
      "C:\\Users\\xiaowen.shou\\AppData\\Local\\anaconda3\\Lib\\site-packages\\sklearn\\base.py:486: UserWarning: X has feature names, but DecisionTreeRegressor was fitted without feature names\n",
      "  warnings.warn(\n"
     ]
    }
   ],
   "source": [
    "from sklearn.ensemble import GradientBoostingClassifier,RandomForestClassifier\n",
    "from sklearn.preprocessing import OneHotEncoder\n",
    "\n",
    "gbdt = GradientBoostingClassifier(n_estimators=20)\n",
    "one_hot = OneHotEncoder()\n",
    "\n",
    "X_train = X_train[[ 'Pclass', 'Age', 'Fare', 'SibSp']].fillna(0)\n",
    "X_test = X_test[[ 'Pclass', 'Age', 'Fare', 'SibSp']].fillna(0)\n",
    "\n",
    "gbdt.fit(X_train, y_train)\n",
    "\n",
    "X_leaf_index = gbdt.apply(X_train)[:, :, 0]  # apply return the node index on each tree \n",
    "print(\"sample's belonging node of each base tree \\n'\",X_leaf_index)\n",
    "# fit one-hot encoder\n",
    "one_hot.fit(X_leaf_index)   \n",
    "X_one_hot = one_hot.transform(X_leaf_index)  \n",
    "\n",
    "\n",
    "from sklearn.linear_model import LogisticRegression\n",
    "lr = LogisticRegression(solver='lbfgs', max_iter=1000)\n",
    "lr.fit(X_one_hot,y_train)\n",
    "y_pred = lr.predict_proba(\n",
    "    one_hot.transform(gbdt.apply(X_test)[:, :, 0]))[:,1]\n",
    "fpr_grd_lm, tpr_grd_lm, _ = roc_curve(y_test, y_pred)\n",
    "print(\"AUC for GBDT derived feature + LR：\", roc_auc_score(y_test, y_pred))"
   ]
  },
  {
   "cell_type": "markdown",
   "id": "635459c2-5dfe-4c7e-bc86-a84c92c64446",
   "metadata": {},
   "source": [
    "## Feature Learning by Trees\n",
    "RandomForest derived feature + LR"
   ]
  },
  {
   "cell_type": "code",
   "execution_count": 13,
   "id": "6690900b-cafc-467e-b295-8a4e46e6ef1c",
   "metadata": {},
   "outputs": [
    {
     "name": "stdout",
     "output_type": "stream",
     "text": [
      "sample's belonging node of each base tree \n",
      "' [[247  69 121 ... 166 186  69]\n",
      " [256 238 125 ... 202 214 117]\n",
      " [267 298 266 ... 302 261 295]\n",
      " ...\n",
      " [ 15 116 166 ...  33  13 159]\n",
      " [229 297 249 ... 291 252 282]\n",
      " [253 243 131 ... 252 211 145]]\n",
      "AUC for RandomForest derived feature + LR： 0.744702380952381\n"
     ]
    }
   ],
   "source": [
    "rf = RandomForestClassifier(n_estimators=20)\n",
    "one_hot = OneHotEncoder(handle_unknown='ignore')\n",
    "\n",
    "X_train = X_train[[ 'Pclass', 'Age', 'Fare', 'SibSp']].fillna(0)\n",
    "X_test = X_test[[ 'Pclass', 'Age', 'Fare', 'SibSp']].fillna(0)\n",
    "\n",
    "rf.fit(X_train, y_train)\n",
    "\n",
    "X_leaf_index = rf.apply(X_train)  # apply return the node index on each tree \n",
    "print(\"sample's belonging node of each base tree \\n'\",X_leaf_index)\n",
    "# fit one-hot encoder\n",
    "one_hot.fit(X_leaf_index)   \n",
    "X_one_hot = one_hot.transform(X_leaf_index)  \n",
    "\n",
    "\n",
    "lr = LogisticRegression(solver='lbfgs', max_iter=1000)\n",
    "lr.fit(X_one_hot,y_train)\n",
    "y_pred = lr.predict_proba(\n",
    "    one_hot.transform(rf.apply(X_test)))[:,1]\n",
    "fpr_grd_lm, tpr_grd_lm, _ = roc_curve(y_test, y_pred)\n",
    "print(\"AUC for RandomForest derived feature + LR：\", roc_auc_score(y_test, y_pred))"
   ]
  },
  {
   "cell_type": "markdown",
   "id": "80bb41df-84fe-4632-ac0e-b0f1c9f47035",
   "metadata": {},
   "source": [
    "## Feature Learning by Trees\n",
    "GBDT derived feature + Raw feature +LR"
   ]
  },
  {
   "cell_type": "code",
   "execution_count": 14,
   "id": "fb423286-3ae7-42d9-bf2e-ae69c9b8651c",
   "metadata": {},
   "outputs": [
    {
     "name": "stdout",
     "output_type": "stream",
     "text": [
      "AUC for GBDT derived feature + Raw feature +LR： 0.7498809523809523\n"
     ]
    },
    {
     "name": "stderr",
     "output_type": "stream",
     "text": [
      "C:\\Users\\xiaowen.shou\\AppData\\Local\\anaconda3\\Lib\\site-packages\\sklearn\\base.py:486: UserWarning: X has feature names, but DecisionTreeRegressor was fitted without feature names\n",
      "  warnings.warn(\n",
      "C:\\Users\\xiaowen.shou\\AppData\\Local\\anaconda3\\Lib\\site-packages\\sklearn\\base.py:486: UserWarning: X has feature names, but DecisionTreeRegressor was fitted without feature names\n",
      "  warnings.warn(\n"
     ]
    }
   ],
   "source": [
    "from scipy.sparse import hstack\n",
    "\n",
    "X_train_ext = hstack([one_hot.transform(gbdt.apply(X_train)[:, :, 0]), X_train])\n",
    "X_test_ext = hstack([one_hot.transform(gbdt.apply(X_test)[:, :, 0]), X_test])\n",
    "lr = LogisticRegression(solver='lbfgs', max_iter=1000)\n",
    "lr.fit(X_train_ext,y_train)\n",
    "y_pred = lr.predict_proba(X_test_ext)[:,1]\n",
    "fpr_grd_lm, tpr_grd_lm, _ = roc_curve(y_test, y_pred)\n",
    "print(\"AUC for GBDT derived feature + Raw feature +LR：\", roc_auc_score(y_test, y_pred))"
   ]
  },
  {
   "cell_type": "markdown",
   "id": "f9a74e0e-b9f6-4627-ad5a-6607d4e23b21",
   "metadata": {},
   "source": [
    "## Feature Learning by Trees\n",
    "RandomForest derived feature + Raw feature +LR"
   ]
  },
  {
   "cell_type": "code",
   "execution_count": 15,
   "id": "5f79a553-3cf1-4061-9689-be411b488802",
   "metadata": {},
   "outputs": [
    {
     "name": "stdout",
     "output_type": "stream",
     "text": [
      "AUC for RandomForest derived feature + Raw feature + LR： 0.746547619047619\n"
     ]
    }
   ],
   "source": [
    "X_train_ext = hstack([one_hot.transform(rf.apply(X_train)), X_train])\n",
    "X_test_ext = hstack([one_hot.transform(rf.apply(X_test)), X_test])\n",
    "lr = LogisticRegression(solver='lbfgs', max_iter=1000)\n",
    "lr.fit(X_train_ext,y_train)\n",
    "y_pred = lr.predict_proba(X_test_ext)[:,1]\n",
    "fpr_grd_lm, tpr_grd_lm, _ = roc_curve(y_test, y_pred)\n",
    "print(\"AUC for RandomForest derived feature + Raw feature + LR：\", roc_auc_score(y_test, y_pred))"
   ]
  },
  {
   "cell_type": "markdown",
   "id": "430e1903-13ac-4c5d-b7b0-86340c6320e0",
   "metadata": {},
   "source": [
    "## Feature Learning by Trees\n",
    "Use only Raw Feature + LR"
   ]
  },
  {
   "cell_type": "code",
   "execution_count": 16,
   "id": "b4b58313-b9e7-4a9f-88a7-a09cc24f1158",
   "metadata": {},
   "outputs": [
    {
     "name": "stdout",
     "output_type": "stream",
     "text": [
      "AUC for RandomForest derived feature + LR： 0.6988095238095238\n"
     ]
    }
   ],
   "source": [
    "lr = LogisticRegression(solver='lbfgs', max_iter=1000)\n",
    "lr.fit(X_train,y_train)\n",
    "y_pred = lr.predict_proba(X_test)[:,1]\n",
    "fpr_grd_lm, tpr_grd_lm, _ = roc_curve(y_test, y_pred)\n",
    "print(\"AUC for RandomForest derived feature + LR：\", roc_auc_score(y_test, y_pred))"
   ]
  },
  {
   "cell_type": "markdown",
   "id": "526699e7-2c42-4f1c-aade-50e7c9578d95",
   "metadata": {},
   "source": [
    "## Feature Learning by Trees\n",
    "Use only Raw Feature + GBDT"
   ]
  },
  {
   "cell_type": "code",
   "execution_count": 17,
   "id": "7dfdce56-c471-4942-ab8a-132329dd9dfc",
   "metadata": {},
   "outputs": [
    {
     "name": "stdout",
     "output_type": "stream",
     "text": [
      "AUC for Raw feature + GBDT： 0.7613988095238096\n"
     ]
    }
   ],
   "source": [
    "gbdt = GradientBoostingClassifier(n_estimators=20)\n",
    "\n",
    "X_train = X_train[[ 'Pclass', 'Age', 'Fare', 'SibSp']].fillna(0)\n",
    "X_test = X_test[[ 'Pclass', 'Age', 'Fare', 'SibSp']].fillna(0)\n",
    "\n",
    "gbdt.fit(X_train, y_train)\n",
    "y_pred = gbdt.predict_proba(X_test)[:,1]\n",
    "fpr_grd_lm, tpr_grd_lm, _ = roc_curve(y_test, y_pred)\n",
    "print(\"AUC for Raw feature + GBDT：\", roc_auc_score(y_test, y_pred))"
   ]
  },
  {
   "cell_type": "markdown",
   "id": "c4f5dc15-1250-4f11-a317-b039e7236aed",
   "metadata": {},
   "source": [
    "## Feature Learning by Trees\n",
    "Use only Raw Feature + RF"
   ]
  },
  {
   "cell_type": "code",
   "execution_count": 18,
   "id": "96dbecba-433f-47e6-906a-b45ce3757132",
   "metadata": {},
   "outputs": [
    {
     "name": "stdout",
     "output_type": "stream",
     "text": [
      "AUC for Raw feature + RF： 0.7562202380952381\n"
     ]
    }
   ],
   "source": [
    "rf = RandomForestClassifier(n_estimators=20)\n",
    "\n",
    "X_train = X_train[[ 'Pclass', 'Age', 'Fare', 'SibSp']].fillna(0)\n",
    "X_test = X_test[[ 'Pclass', 'Age', 'Fare', 'SibSp']].fillna(0)\n",
    "\n",
    "rf.fit(X_train, y_train)\n",
    "y_pred = rf.predict_proba(X_test)[:,1]\n",
    "fpr_grd_lm, tpr_grd_lm, _ = roc_curve(y_test, y_pred)\n",
    "print(\"AUC for Raw feature + RF：\", roc_auc_score(y_test, y_pred))"
   ]
  },
  {
   "cell_type": "markdown",
   "id": "0ea4544a-6fdf-450e-992e-59e1ccc7f17e",
   "metadata": {},
   "source": [
    "### Without tuning, we can see GBDT derived feature + LR get the best result"
   ]
  },
  {
   "cell_type": "code",
   "execution_count": null,
   "id": "a34b85e6-abea-4b0c-8d50-d3612a2a22c6",
   "metadata": {},
   "outputs": [],
   "source": []
  }
 ],
 "metadata": {
  "kernelspec": {
   "display_name": "Python 3 (ipykernel)",
   "language": "python",
   "name": "python3"
  },
  "language_info": {
   "codemirror_mode": {
    "name": "ipython",
    "version": 3
   },
   "file_extension": ".py",
   "mimetype": "text/x-python",
   "name": "python",
   "nbconvert_exporter": "python",
   "pygments_lexer": "ipython3",
   "version": "3.12.7"
  }
 },
 "nbformat": 4,
 "nbformat_minor": 5
}
