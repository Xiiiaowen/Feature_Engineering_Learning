{
 "cells": [
  {
   "cell_type": "code",
   "execution_count": 1,
   "id": "ce41de44-81c5-4e5c-84b1-ffc4709c5c0d",
   "metadata": {},
   "outputs": [],
   "source": [
    "import pandas as pd\n",
    "import numpy as np\n",
    "# import seaborn as sns\n",
    "# import matplotlib.pyplot as plt\n",
    "import os \n",
    "# plt.style.use('seaborn-v0_8-colorblind')\n",
    "# %matplotlib inline\n",
    "from feature_cleaning import rare_values as ra"
   ]
  },
  {
   "cell_type": "markdown",
   "id": "5bee1736-2086-48e8-be1b-876a5c42232f",
   "metadata": {},
   "source": [
    "## Load dataset"
   ]
  },
  {
   "cell_type": "code",
   "execution_count": 2,
   "id": "5ec1bc8d-019e-4a8a-b0dc-c75604e598c9",
   "metadata": {},
   "outputs": [
    {
     "name": "stdout",
     "output_type": "stream",
     "text": [
      "Variable Pclass label proportion:\n",
      "Pclass\n",
      "3    0.551066\n",
      "1    0.242424\n",
      "2    0.206510\n",
      "Name: count, dtype: float64\n",
      "Variable SibSp label proportion:\n",
      "SibSp\n",
      "0    0.682379\n",
      "1    0.234568\n",
      "2    0.031425\n",
      "4    0.020202\n",
      "3    0.017957\n",
      "8    0.007856\n",
      "5    0.005612\n",
      "Name: count, dtype: float64\n"
     ]
    }
   ],
   "source": [
    "use_cols = [\n",
    "    'Pclass', 'Sex', 'Age', 'Fare', 'SibSp',\n",
    "    'Survived'\n",
    "]\n",
    "\n",
    "# see column Pclass & SibSp's distributions\n",
    "# SibSp has values 3/8/5 that occur rarely, under 2%\n",
    "# Pclass has 3 values, but no one is under 20%\n",
    "data = pd.read_csv('./data/titanic.csv', usecols=use_cols)\n",
    "for i in ['Pclass','SibSp']:\n",
    "    print('Variable',i,'label proportion:')\n",
    "    print(data[i].value_counts()/len(data))"
   ]
  },
  {
   "cell_type": "markdown",
   "id": "56e1043a-4674-41b5-9db1-b40a01d3e0f6",
   "metadata": {},
   "source": [
    "## Grouping into one new category\n",
    "Grouping the observations that show rare labels into a unique category ('rare')"
   ]
  },
  {
   "cell_type": "code",
   "execution_count": 3,
   "id": "e0fd603f-342a-44ff-90e9-36fa264381f3",
   "metadata": {},
   "outputs": [],
   "source": [
    "# create the encoder and fit with our data\n",
    "enc = ra.GroupingRareValues(cols=['Pclass','SibSp'],threshold=0.01).fit(data)"
   ]
  },
  {
   "cell_type": "code",
   "execution_count": 5,
   "id": "19f74c8e-068d-4236-8ac2-b6cc4083cf82",
   "metadata": {},
   "outputs": [
    {
     "name": "stdout",
     "output_type": "stream",
     "text": [
      "[{'col': 'Pclass', 'mapping': 3    3\n",
      "1    1\n",
      "2    2\n",
      "dtype: int64, 'data_type': dtype('int64')}, {'col': 'SibSp', 'mapping': 0       0\n",
      "1       1\n",
      "2       2\n",
      "4       4\n",
      "3       3\n",
      "8    rare\n",
      "5    rare\n",
      "dtype: object, 'data_type': dtype('int64')}]\n"
     ]
    }
   ],
   "source": [
    "# let's see the mapping\n",
    "# for SibSp, values 5 & 8 are encoded as 'rare' as they appear less than 1%\n",
    "# for Pclass, nothing changed\n",
    "print(enc.mapping)"
   ]
  },
  {
   "cell_type": "code",
   "execution_count": 6,
   "id": "6b36818b-5107-4964-bc9d-818c3518372c",
   "metadata": {},
   "outputs": [],
   "source": [
    "# perform transformation\n",
    "data2 = enc.transform(data)"
   ]
  },
  {
   "cell_type": "code",
   "execution_count": 7,
   "id": "8a93f342-8b08-4dae-ab59-349542393ad7",
   "metadata": {},
   "outputs": [
    {
     "name": "stdout",
     "output_type": "stream",
     "text": [
      "SibSp\n",
      "0       608\n",
      "1       209\n",
      "2        28\n",
      "4        18\n",
      "3        16\n",
      "rare     12\n",
      "Name: count, dtype: int64\n"
     ]
    }
   ],
   "source": [
    "# check the result\n",
    "print(data2.SibSp.value_counts())"
   ]
  },
  {
   "cell_type": "markdown",
   "id": "80bb41df-84fe-4632-ac0e-b0f1c9f47035",
   "metadata": {},
   "source": [
    "## Mode Imputation\n",
    "Replacing the rare label by most frequent label"
   ]
  },
  {
   "cell_type": "code",
   "execution_count": 8,
   "id": "fb423286-3ae7-42d9-bf2e-ae69c9b8651c",
   "metadata": {},
   "outputs": [],
   "source": [
    "# create the encoder and fit with our data\n",
    "enc = ra.ModeImputation(cols=['Pclass','SibSp'],threshold=0.01).fit(data)"
   ]
  },
  {
   "cell_type": "code",
   "execution_count": 9,
   "id": "f09e3bc8-4bc0-42fb-a93b-a37d38659fdb",
   "metadata": {},
   "outputs": [
    {
     "name": "stdout",
     "output_type": "stream",
     "text": [
      "[{'col': 'Pclass', 'mapping': 3    3\n",
      "1    1\n",
      "2    2\n",
      "dtype: int64, 'data_type': dtype('int64')}, {'col': 'SibSp', 'mapping': 0    0\n",
      "1    1\n",
      "2    2\n",
      "4    4\n",
      "3    3\n",
      "8    0\n",
      "5    0\n",
      "dtype: int64, 'data_type': dtype('int64')}]\n"
     ]
    }
   ],
   "source": [
    "# let's see the mapping\n",
    "# for SibSp, values 5 & 8 are encoded as 0, as label 0 is the most frequent label\n",
    "# for Pclass, nothing changed\n",
    "print(enc.mapping)"
   ]
  },
  {
   "cell_type": "code",
   "execution_count": 12,
   "id": "b9c8556d-bed4-4f1f-8789-1233c286026d",
   "metadata": {},
   "outputs": [],
   "source": [
    "# perform transformation\n",
    "data3 = enc.transform(data)"
   ]
  },
  {
   "cell_type": "code",
   "execution_count": 13,
   "id": "7c5db108-87d9-4cd3-a54b-ea659cf2b30f",
   "metadata": {},
   "outputs": [
    {
     "name": "stdout",
     "output_type": "stream",
     "text": [
      "SibSp\n",
      "0    620\n",
      "1    209\n",
      "2     28\n",
      "4     18\n",
      "3     16\n",
      "Name: count, dtype: int64\n"
     ]
    }
   ],
   "source": [
    "# check the result\n",
    "print(data3.SibSp.value_counts())"
   ]
  },
  {
   "cell_type": "code",
   "execution_count": null,
   "id": "64b64eaa-06ce-426e-9b3a-94515a8fff18",
   "metadata": {},
   "outputs": [],
   "source": []
  }
 ],
 "metadata": {
  "kernelspec": {
   "display_name": "Python 3 (ipykernel)",
   "language": "python",
   "name": "python3"
  },
  "language_info": {
   "codemirror_mode": {
    "name": "ipython",
    "version": 3
   },
   "file_extension": ".py",
   "mimetype": "text/x-python",
   "name": "python",
   "nbconvert_exporter": "python",
   "pygments_lexer": "ipython3",
   "version": "3.12.7"
  }
 },
 "nbformat": 4,
 "nbformat_minor": 5
}
